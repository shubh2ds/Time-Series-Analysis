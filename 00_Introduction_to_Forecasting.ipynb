{
  "nbformat": 4,
  "nbformat_minor": 0,
  "metadata": {
    "colab": {
      "name": "00_Introduction_to_Forecasting.ipynb",
      "provenance": [],
      "collapsed_sections": [],
      "authorship_tag": "ABX9TyP5ocCOq2YJKM56acHsCwt1",
      "include_colab_link": true
    },
    "kernelspec": {
      "name": "python3",
      "display_name": "Python 3"
    },
    "language_info": {
      "name": "python"
    }
  },
  "cells": [
    {
      "cell_type": "markdown",
      "metadata": {
        "id": "view-in-github",
        "colab_type": "text"
      },
      "source": [
        "<a href=\"https://colab.research.google.com/github/shubh2ds/Time-Series-Analysis/blob/main/00_Introduction_to_Forecasting.ipynb\" target=\"_parent\"><img src=\"https://colab.research.google.com/assets/colab-badge.svg\" alt=\"Open In Colab\"/></a>"
      ]
    },
    {
      "cell_type": "markdown",
      "source": [
        "# Introduction to Forecasting\n",
        "The purpose behind the exercise is to predict what happens next.\n",
        "What's our best guess for next month's value? For the next six months?\n",
        "\n",
        "We'll look to extend our models into the future. First we'll divide known data into training and testing sets, and evaluate the performance of a trained model on known test data.\n",
        "\n",
        "* Goals\n",
        "  * Compare a Holt-Winters forecasted model to known data\n",
        "  * Understand 1)stationarity, 2)differencing and 3)lagging\n",
        "  * Introduce ARIMA and describe next steps"
      ],
      "metadata": {
        "id": "QcNWYnsukmoB"
      }
    },
    {
      "cell_type": "code",
      "execution_count": null,
      "metadata": {
        "id": "xeyG9THpQeYc"
      },
      "outputs": [],
      "source": [
        ""
      ]
    }
  ]
}